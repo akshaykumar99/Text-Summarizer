{
 "cells": [
  {
   "cell_type": "markdown",
   "metadata": {
    "id": "nDEgaYx2twJg"
   },
   "source": [
    "# Text Summarizer"
   ]
  },
  {
   "cell_type": "code",
   "execution_count": 1,
   "metadata": {
    "colab": {
     "base_uri": "https://localhost:8080/"
    },
    "id": "oqXwZFXoHvv9",
    "outputId": "1e48d558-8ad7-4a7c-ad5a-2c1a159be005"
   },
   "outputs": [
    {
     "name": "stdout",
     "output_type": "stream",
     "text": [
      "Mounted at /content/gdrive\n"
     ]
    }
   ],
   "source": [
    "from google.colab import drive\n",
    "drive.mount('/content/gdrive')"
   ]
  },
  {
   "cell_type": "code",
   "execution_count": 2,
   "metadata": {
    "id": "cReXZh3TIBgN"
   },
   "outputs": [],
   "source": [
    "import os\n",
    "os.chdir(\"/content/gdrive/MyDrive/Colab Notebooks/Text Summarizer\")"
   ]
  },
  {
   "cell_type": "markdown",
   "metadata": {
    "id": "WudgbH_vuZMv"
   },
   "source": [
    "# Import the Libraries"
   ]
  },
  {
   "cell_type": "code",
   "execution_count": 3,
   "metadata": {
    "id": "J6XPA1SrQP4J"
   },
   "outputs": [],
   "source": [
    "import re\n",
    "import numpy as np\n",
    "import pandas as pd\n",
    "from nltk.corpus import stopwords\n",
    "from keras.preprocessing.text import Tokenizer\n",
    "from keras.preprocessing.sequence import pad_sequences\n",
    "from tensorflow.keras.layers import Input, LSTM, Embedding, Dense, Concatenate, TimeDistributed, Bidirectional\n",
    "from tensorflow.keras.models import Model\n",
    "import matplotlib.pyplot as plt\n",
    "from sklearn.model_selection import train_test_split\n",
    "from keras import backend as K \n",
    "from attention import AttentionLayer"
   ]
  },
  {
   "cell_type": "markdown",
   "metadata": {
    "id": "uqqPhv6Rugqy"
   },
   "source": [
    "Reading the Dataset"
   ]
  },
  {
   "cell_type": "code",
   "execution_count": 4,
   "metadata": {
    "id": "BA9ORFafAe7K"
   },
   "outputs": [],
   "source": [
    "data = pd.read_csv('Reviews.csv')"
   ]
  },
  {
   "cell_type": "code",
   "execution_count": 5,
   "metadata": {
    "colab": {
     "base_uri": "https://localhost:8080/",
     "height": 279
    },
    "id": "4slSClGJAtKD",
    "outputId": "290fb89e-fa33-4b6a-d9fa-ebab31048382"
   },
   "outputs": [
    {
     "data": {
      "text/html": [
       "<div>\n",
       "<style scoped>\n",
       "    .dataframe tbody tr th:only-of-type {\n",
       "        vertical-align: middle;\n",
       "    }\n",
       "\n",
       "    .dataframe tbody tr th {\n",
       "        vertical-align: top;\n",
       "    }\n",
       "\n",
       "    .dataframe thead th {\n",
       "        text-align: right;\n",
       "    }\n",
       "</style>\n",
       "<table border=\"1\" class=\"dataframe\">\n",
       "  <thead>\n",
       "    <tr style=\"text-align: right;\">\n",
       "      <th></th>\n",
       "      <th>Id</th>\n",
       "      <th>ProductId</th>\n",
       "      <th>UserId</th>\n",
       "      <th>ProfileName</th>\n",
       "      <th>HelpfulnessNumerator</th>\n",
       "      <th>HelpfulnessDenominator</th>\n",
       "      <th>Score</th>\n",
       "      <th>Time</th>\n",
       "      <th>Summary</th>\n",
       "      <th>Text</th>\n",
       "    </tr>\n",
       "  </thead>\n",
       "  <tbody>\n",
       "    <tr>\n",
       "      <th>0</th>\n",
       "      <td>1</td>\n",
       "      <td>B001E4KFG0</td>\n",
       "      <td>A3SGXH7AUHU8GW</td>\n",
       "      <td>delmartian</td>\n",
       "      <td>1</td>\n",
       "      <td>1</td>\n",
       "      <td>5</td>\n",
       "      <td>1303862400</td>\n",
       "      <td>Good Quality Dog Food</td>\n",
       "      <td>I have bought several of the Vitality canned d...</td>\n",
       "    </tr>\n",
       "    <tr>\n",
       "      <th>1</th>\n",
       "      <td>2</td>\n",
       "      <td>B00813GRG4</td>\n",
       "      <td>A1D87F6ZCVE5NK</td>\n",
       "      <td>dll pa</td>\n",
       "      <td>0</td>\n",
       "      <td>0</td>\n",
       "      <td>1</td>\n",
       "      <td>1346976000</td>\n",
       "      <td>Not as Advertised</td>\n",
       "      <td>Product arrived labeled as Jumbo Salted Peanut...</td>\n",
       "    </tr>\n",
       "    <tr>\n",
       "      <th>2</th>\n",
       "      <td>3</td>\n",
       "      <td>B000LQOCH0</td>\n",
       "      <td>ABXLMWJIXXAIN</td>\n",
       "      <td>Natalia Corres \"Natalia Corres\"</td>\n",
       "      <td>1</td>\n",
       "      <td>1</td>\n",
       "      <td>4</td>\n",
       "      <td>1219017600</td>\n",
       "      <td>\"Delight\" says it all</td>\n",
       "      <td>This is a confection that has been around a fe...</td>\n",
       "    </tr>\n",
       "    <tr>\n",
       "      <th>3</th>\n",
       "      <td>4</td>\n",
       "      <td>B000UA0QIQ</td>\n",
       "      <td>A395BORC6FGVXV</td>\n",
       "      <td>Karl</td>\n",
       "      <td>3</td>\n",
       "      <td>3</td>\n",
       "      <td>2</td>\n",
       "      <td>1307923200</td>\n",
       "      <td>Cough Medicine</td>\n",
       "      <td>If you are looking for the secret ingredient i...</td>\n",
       "    </tr>\n",
       "    <tr>\n",
       "      <th>4</th>\n",
       "      <td>5</td>\n",
       "      <td>B006K2ZZ7K</td>\n",
       "      <td>A1UQRSCLF8GW1T</td>\n",
       "      <td>Michael D. Bigham \"M. Wassir\"</td>\n",
       "      <td>0</td>\n",
       "      <td>0</td>\n",
       "      <td>5</td>\n",
       "      <td>1350777600</td>\n",
       "      <td>Great taffy</td>\n",
       "      <td>Great taffy at a great price.  There was a wid...</td>\n",
       "    </tr>\n",
       "  </tbody>\n",
       "</table>\n",
       "</div>"
      ],
      "text/plain": [
       "   Id  ...                                               Text\n",
       "0   1  ...  I have bought several of the Vitality canned d...\n",
       "1   2  ...  Product arrived labeled as Jumbo Salted Peanut...\n",
       "2   3  ...  This is a confection that has been around a fe...\n",
       "3   4  ...  If you are looking for the secret ingredient i...\n",
       "4   5  ...  Great taffy at a great price.  There was a wid...\n",
       "\n",
       "[5 rows x 10 columns]"
      ]
     },
     "execution_count": 5,
     "metadata": {
      "tags": []
     },
     "output_type": "execute_result"
    }
   ],
   "source": [
    "data.head()"
   ]
  },
  {
   "cell_type": "markdown",
   "metadata": {
    "id": "EWGpaxxiukgv"
   },
   "source": [
    "We require only two columns from the original dataset."
   ]
  },
  {
   "cell_type": "code",
   "execution_count": 6,
   "metadata": {
    "id": "DztGLOInExTt"
   },
   "outputs": [],
   "source": [
    "data = data[['Summary', 'Text']]"
   ]
  },
  {
   "cell_type": "code",
   "execution_count": 7,
   "metadata": {
    "colab": {
     "base_uri": "https://localhost:8080/",
     "height": 195
    },
    "id": "q82uPw08E4gn",
    "outputId": "b04cd0d3-8559-4a5b-8a8c-2f61861e25ee"
   },
   "outputs": [
    {
     "data": {
      "text/html": [
       "<div>\n",
       "<style scoped>\n",
       "    .dataframe tbody tr th:only-of-type {\n",
       "        vertical-align: middle;\n",
       "    }\n",
       "\n",
       "    .dataframe tbody tr th {\n",
       "        vertical-align: top;\n",
       "    }\n",
       "\n",
       "    .dataframe thead th {\n",
       "        text-align: right;\n",
       "    }\n",
       "</style>\n",
       "<table border=\"1\" class=\"dataframe\">\n",
       "  <thead>\n",
       "    <tr style=\"text-align: right;\">\n",
       "      <th></th>\n",
       "      <th>Summary</th>\n",
       "      <th>Text</th>\n",
       "    </tr>\n",
       "  </thead>\n",
       "  <tbody>\n",
       "    <tr>\n",
       "      <th>0</th>\n",
       "      <td>Good Quality Dog Food</td>\n",
       "      <td>I have bought several of the Vitality canned d...</td>\n",
       "    </tr>\n",
       "    <tr>\n",
       "      <th>1</th>\n",
       "      <td>Not as Advertised</td>\n",
       "      <td>Product arrived labeled as Jumbo Salted Peanut...</td>\n",
       "    </tr>\n",
       "    <tr>\n",
       "      <th>2</th>\n",
       "      <td>\"Delight\" says it all</td>\n",
       "      <td>This is a confection that has been around a fe...</td>\n",
       "    </tr>\n",
       "    <tr>\n",
       "      <th>3</th>\n",
       "      <td>Cough Medicine</td>\n",
       "      <td>If you are looking for the secret ingredient i...</td>\n",
       "    </tr>\n",
       "    <tr>\n",
       "      <th>4</th>\n",
       "      <td>Great taffy</td>\n",
       "      <td>Great taffy at a great price.  There was a wid...</td>\n",
       "    </tr>\n",
       "  </tbody>\n",
       "</table>\n",
       "</div>"
      ],
      "text/plain": [
       "                 Summary                                               Text\n",
       "0  Good Quality Dog Food  I have bought several of the Vitality canned d...\n",
       "1      Not as Advertised  Product arrived labeled as Jumbo Salted Peanut...\n",
       "2  \"Delight\" says it all  This is a confection that has been around a fe...\n",
       "3         Cough Medicine  If you are looking for the secret ingredient i...\n",
       "4            Great taffy  Great taffy at a great price.  There was a wid..."
      ]
     },
     "execution_count": 7,
     "metadata": {
      "tags": []
     },
     "output_type": "execute_result"
    }
   ],
   "source": [
    "data.head()"
   ]
  },
  {
   "cell_type": "markdown",
   "metadata": {
    "id": "cd0QYiivvV49"
   },
   "source": [
    "Drop NA values and Duplicates"
   ]
  },
  {
   "cell_type": "code",
   "execution_count": 8,
   "metadata": {
    "id": "qGYBWrHlAvCP"
   },
   "outputs": [],
   "source": [
    "data.dropna(axis = 0, inplace = True)\n",
    "data.drop_duplicates(subset = ['Text'], inplace = True)"
   ]
  },
  {
   "cell_type": "code",
   "execution_count": 9,
   "metadata": {
    "colab": {
     "base_uri": "https://localhost:8080/"
    },
    "id": "vaTMVfF2A3gP",
    "outputId": "16343297-eb8b-4a51-98fa-797834a640c1"
   },
   "outputs": [
    {
     "data": {
      "text/plain": [
       "(393576, 2)"
      ]
     },
     "execution_count": 9,
     "metadata": {
      "tags": []
     },
     "output_type": "execute_result"
    }
   ],
   "source": [
    "data.shape"
   ]
  },
  {
   "cell_type": "markdown",
   "metadata": {
    "id": "X9pD_p71vfQi"
   },
   "source": [
    "#Preprocessing\n",
    "\n",
    "Using messy and uncleaned data is a potentially disastrous move. So, we'll remove all the unwanted characters from our dataset. \n",
    "\n",
    "Below is the dictionary that we'll use for expanding the contractions:"
   ]
  },
  {
   "cell_type": "code",
   "execution_count": 10,
   "metadata": {
    "id": "aGMLKwvxA6Ao"
   },
   "outputs": [],
   "source": [
    "contraction_mapping = {\"ain't\": \"is not\", \"aren't\": \"are not\",\"can't\": \"cannot\", \"'cause\": \"because\", \"could've\": \"could have\", \"couldn't\": \"could not\", \n",
    "                        \"didn't\": \"did not\", \"doesn't\": \"does not\", \"don't\": \"do not\", \"hadn't\": \"had not\", \"hasn't\": \"has not\", \"haven't\": \"have not\",\n",
    "                        \"he'd\": \"he would\",\"he'll\": \"he will\", \"he's\": \"he is\", \"how'd\": \"how did\", \"how'd'y\": \"how do you\", \"how'll\": \"how will\", \"how's\": \"how is\",\n",
    "                        \"I'd\": \"I would\", \"I'd've\": \"I would have\", \"I'll\": \"I will\", \"I'll've\": \"I will have\",\"I'm\": \"I am\", \"I've\": \"I have\", \"i'd\": \"i would\",\n",
    "                        \"i'd've\": \"i would have\", \"i'll\": \"i will\",  \"i'll've\": \"i will have\",\"i'm\": \"i am\", \"i've\": \"i have\", \"isn't\": \"is not\", \"it'd\": \"it would\",\n",
    "                        \"it'd've\": \"it would have\", \"it'll\": \"it will\", \"it'll've\": \"it will have\",\"it's\": \"it is\", \"let's\": \"let us\", \"ma'am\": \"madam\",\n",
    "                        \"mayn't\": \"may not\", \"might've\": \"might have\",\"mightn't\": \"might not\",\"mightn't've\": \"might not have\", \"must've\": \"must have\",\n",
    "                        \"mustn't\": \"must not\", \"mustn't've\": \"must not have\", \"needn't\": \"need not\", \"needn't've\": \"need not have\",\"o'clock\": \"of the clock\",\n",
    "                        \"oughtn't\": \"ought not\", \"oughtn't've\": \"ought not have\", \"shan't\": \"shall not\", \"sha'n't\": \"shall not\", \"shan't've\": \"shall not have\",\n",
    "                        \"she'd\": \"she would\", \"she'd've\": \"she would have\", \"she'll\": \"she will\", \"she'll've\": \"she will have\", \"she's\": \"she is\",\n",
    "                        \"should've\": \"should have\", \"shouldn't\": \"should not\", \"shouldn't've\": \"should not have\", \"so've\": \"so have\",\"so's\": \"so as\",\n",
    "                        \"this's\": \"this is\",\"that'd\": \"that would\", \"that'd've\": \"that would have\", \"that's\": \"that is\", \"there'd\": \"there would\",\n",
    "                        \"there'd've\": \"there would have\", \"there's\": \"there is\", \"here's\": \"here is\",\"they'd\": \"they would\", \"they'd've\": \"they would have\",\n",
    "                        \"they'll\": \"they will\", \"they'll've\": \"they will have\", \"they're\": \"they are\", \"they've\": \"they have\", \"to've\": \"to have\",\n",
    "                        \"wasn't\": \"was not\", \"we'd\": \"we would\", \"we'd've\": \"we would have\", \"we'll\": \"we will\", \"we'll've\": \"we will have\", \"we're\": \"we are\",\n",
    "                        \"we've\": \"we have\", \"weren't\": \"were not\", \"what'll\": \"what will\", \"what'll've\": \"what will have\", \"what're\": \"what are\",\n",
    "                        \"what's\": \"what is\", \"what've\": \"what have\", \"when's\": \"when is\", \"when've\": \"when have\", \"where'd\": \"where did\", \"where's\": \"where is\",\n",
    "                        \"where've\": \"where have\", \"who'll\": \"who will\", \"who'll've\": \"who will have\", \"who's\": \"who is\", \"who've\": \"who have\",\n",
    "                        \"why's\": \"why is\", \"why've\": \"why have\", \"will've\": \"will have\", \"won't\": \"will not\", \"won't've\": \"will not have\",\n",
    "                        \"would've\": \"would have\", \"wouldn't\": \"would not\", \"wouldn't've\": \"would not have\", \"y'all\": \"you all\", \"y'all'd\": \"you all would\",\n",
    "                        \"y'all'd've\": \"you all would have\",\"y'all're\": \"you all are\",\"y'all've\": \"you all have\", \"you'd\": \"you would\", \n",
    "                        \"you'd've\": \"you would have\", \"you'll\": \"you will\", \"you'll've\": \"you will have\", \"you're\": \"you are\", \"you've\": \"you have\" }"
   ]
  },
  {
   "cell_type": "code",
   "execution_count": 12,
   "metadata": {
    "id": "J3fM_3xGBej4"
   },
   "outputs": [],
   "source": [
    "stop_words = set(stopwords.words('english'))"
   ]
  },
  {
   "cell_type": "markdown",
   "metadata": {
    "id": "I5AyI40Wwj4i"
   },
   "source": [
    "The function defined below performs the following tasks\n",
    "* Convert each character to the lowercase\n",
    "* Remove text inside parenthesis ()\n",
    "* Contraction mapping\n",
    "* Remove ('s)\n",
    "* Remove all the characters except english alphabets\n",
    "* Remove short words"
   ]
  },
  {
   "cell_type": "code",
   "execution_count": 13,
   "metadata": {
    "id": "9H4Sv4caBsRb"
   },
   "outputs": [],
   "source": [
    "def text_cleaner(text):\n",
    "    result = text.lower()\n",
    "    result = re.sub(r'\\([^)]*\\)','',result)\n",
    "    result = re.sub('\"', '', result)\n",
    "    result = \" \".join([contraction_mapping[t] if t in contraction_mapping else t for t in result.split(\" \")])\n",
    "    result = re.sub(r\"'s\\b'\", '', result)\n",
    "    result = re.sub(\"[^a-zA-z]\", ' ', result)\n",
    "    tokens = [w for w in result.split() if not w in stop_words]\n",
    "    long_words = []\n",
    "    for i in tokens:\n",
    "        if(len(i) >= 3):\n",
    "            long_words.append(i)\n",
    "    result = \" \".join(long_words).strip()\n",
    "    return result"
   ]
  },
  {
   "cell_type": "code",
   "execution_count": 14,
   "metadata": {
    "id": "X-ttRsrHEpxl"
   },
   "outputs": [],
   "source": [
    "cleaned_text = []\n",
    "for t in data['Text']:\n",
    "    cleaned_text.append(text_cleaner(t))"
   ]
  },
  {
   "cell_type": "code",
   "execution_count": 15,
   "metadata": {
    "id": "ezi8fy6UFLay"
   },
   "outputs": [],
   "source": [
    "def summary_cleaner(text):\n",
    "    result = text.lower()\n",
    "    result = re.sub('\"','', result)\n",
    "    result = ' '.join([contraction_mapping[t] if t in contraction_mapping else t for t in result.split(\" \")])    \n",
    "    result = re.sub(r\"'s\\b\",\"\",result)\n",
    "    result = re.sub(\"[^a-zA-Z]\", \" \", result)\n",
    "    tokens = result.split()\n",
    "    long_words = []\n",
    "    for i in tokens:\n",
    "        if(len(i) >= 2):\n",
    "            long_words.append(i)\n",
    "    result = \" \".join(long_words).strip()\n",
    "    return result"
   ]
  },
  {
   "cell_type": "code",
   "execution_count": 16,
   "metadata": {
    "id": "S_Al1qRpFf7c"
   },
   "outputs": [],
   "source": [
    "cleaned_summary = []\n",
    "for t in data['Summary']:\n",
    "    cleaned_summary.append(summary_cleaner(t))"
   ]
  },
  {
   "cell_type": "code",
   "execution_count": 17,
   "metadata": {
    "colab": {
     "base_uri": "https://localhost:8080/"
    },
    "id": "j8xv7uOqFh6l",
    "outputId": "0887155f-2758-4be6-b8cf-e830d99f8634"
   },
   "outputs": [
    {
     "name": "stdout",
     "output_type": "stream",
     "text": [
      "Review :  bought several vitality canned dog food products found good quality product looks like stew processed meat smells better labrador finicky appreciates product better\n",
      "Summary : good quality dog food\n"
     ]
    }
   ],
   "source": [
    "print('Review : ', cleaned_text[0])\n",
    "print('Summary :', cleaned_summary[0])"
   ]
  },
  {
   "cell_type": "code",
   "execution_count": 18,
   "metadata": {
    "id": "BVMzoYloFly8"
   },
   "outputs": [],
   "source": [
    "data['cleaned_summary'] = cleaned_summary\n",
    "data['cleaned_text'] = cleaned_text\n",
    "# drop empty rows\n",
    "data['cleaned_summary'].replace('', np.nan, inplace = True)\n",
    "data.dropna(axis = 0, inplace = True)"
   ]
  },
  {
   "cell_type": "code",
   "execution_count": 19,
   "metadata": {
    "colab": {
     "base_uri": "https://localhost:8080/",
     "height": 195
    },
    "id": "rtry9uLBFvQt",
    "outputId": "bb8a32d7-8333-42df-d54c-0217f1d981f2"
   },
   "outputs": [
    {
     "data": {
      "text/html": [
       "<div>\n",
       "<style scoped>\n",
       "    .dataframe tbody tr th:only-of-type {\n",
       "        vertical-align: middle;\n",
       "    }\n",
       "\n",
       "    .dataframe tbody tr th {\n",
       "        vertical-align: top;\n",
       "    }\n",
       "\n",
       "    .dataframe thead th {\n",
       "        text-align: right;\n",
       "    }\n",
       "</style>\n",
       "<table border=\"1\" class=\"dataframe\">\n",
       "  <thead>\n",
       "    <tr style=\"text-align: right;\">\n",
       "      <th></th>\n",
       "      <th>Summary</th>\n",
       "      <th>Text</th>\n",
       "      <th>cleaned_summary</th>\n",
       "      <th>cleaned_text</th>\n",
       "    </tr>\n",
       "  </thead>\n",
       "  <tbody>\n",
       "    <tr>\n",
       "      <th>0</th>\n",
       "      <td>Good Quality Dog Food</td>\n",
       "      <td>I have bought several of the Vitality canned d...</td>\n",
       "      <td>good quality dog food</td>\n",
       "      <td>bought several vitality canned dog food produc...</td>\n",
       "    </tr>\n",
       "    <tr>\n",
       "      <th>1</th>\n",
       "      <td>Not as Advertised</td>\n",
       "      <td>Product arrived labeled as Jumbo Salted Peanut...</td>\n",
       "      <td>not as advertised</td>\n",
       "      <td>product arrived labeled jumbo salted peanuts p...</td>\n",
       "    </tr>\n",
       "    <tr>\n",
       "      <th>2</th>\n",
       "      <td>\"Delight\" says it all</td>\n",
       "      <td>This is a confection that has been around a fe...</td>\n",
       "      <td>delight says it all</td>\n",
       "      <td>confection around centuries light pillowy citr...</td>\n",
       "    </tr>\n",
       "    <tr>\n",
       "      <th>3</th>\n",
       "      <td>Cough Medicine</td>\n",
       "      <td>If you are looking for the secret ingredient i...</td>\n",
       "      <td>cough medicine</td>\n",
       "      <td>looking secret ingredient robitussin believe f...</td>\n",
       "    </tr>\n",
       "    <tr>\n",
       "      <th>4</th>\n",
       "      <td>Great taffy</td>\n",
       "      <td>Great taffy at a great price.  There was a wid...</td>\n",
       "      <td>great taffy</td>\n",
       "      <td>great taffy great price wide assortment yummy ...</td>\n",
       "    </tr>\n",
       "  </tbody>\n",
       "</table>\n",
       "</div>"
      ],
      "text/plain": [
       "                 Summary  ...                                       cleaned_text\n",
       "0  Good Quality Dog Food  ...  bought several vitality canned dog food produc...\n",
       "1      Not as Advertised  ...  product arrived labeled jumbo salted peanuts p...\n",
       "2  \"Delight\" says it all  ...  confection around centuries light pillowy citr...\n",
       "3         Cough Medicine  ...  looking secret ingredient robitussin believe f...\n",
       "4            Great taffy  ...  great taffy great price wide assortment yummy ...\n",
       "\n",
       "[5 rows x 4 columns]"
      ]
     },
     "execution_count": 19,
     "metadata": {
      "tags": []
     },
     "output_type": "execute_result"
    }
   ],
   "source": [
    "data.head()"
   ]
  },
  {
   "cell_type": "markdown",
   "metadata": {
    "id": "WB-vuXlT18k_"
   },
   "source": [
    "Remove long texts and sequences "
   ]
  },
  {
   "cell_type": "code",
   "execution_count": 20,
   "metadata": {
    "id": "4Wd9IZ_eFxE4"
   },
   "outputs": [],
   "source": [
    "text_word_count = []\n",
    "summary_word_count = []\n",
    "\n",
    "for i in data['cleaned_text']:\n",
    "      text_word_count.append(len(i.split()))\n",
    "\n",
    "for i in data['cleaned_summary']:\n",
    "      summary_word_count.append(len(i.split()))"
   ]
  },
  {
   "cell_type": "code",
   "execution_count": 21,
   "metadata": {
    "id": "eYSOEpsYGk-9"
   },
   "outputs": [],
   "source": [
    "vis_text = pd.Series(text_word_count).value_counts()\n",
    "vis_summary = pd.Series(summary_word_count).value_counts()"
   ]
  },
  {
   "cell_type": "code",
   "execution_count": 22,
   "metadata": {
    "id": "9BMO6yj0Gt5E"
   },
   "outputs": [],
   "source": [
    "# print(vis_text[70:90])\n",
    "# print(vis_summary[:20])"
   ]
  },
  {
   "cell_type": "code",
   "execution_count": 23,
   "metadata": {
    "colab": {
     "base_uri": "https://localhost:8080/"
    },
    "id": "UZvvjG9DGwcU",
    "outputId": "b1ef2b1d-52ea-44c4-8d62-5b58acce651c"
   },
   "outputs": [
    {
     "name": "stdout",
     "output_type": "stream",
     "text": [
      "0.9794778159513571\n"
     ]
    }
   ],
   "source": [
    "cnt=0\n",
    "for i in data['cleaned_summary']:\n",
    "    if(len(i.split()) <= 10):\n",
    "        cnt = cnt+1\n",
    "print(cnt / len(data['cleaned_summary']))"
   ]
  },
  {
   "cell_type": "code",
   "execution_count": 24,
   "metadata": {
    "colab": {
     "base_uri": "https://localhost:8080/"
    },
    "id": "plWhxRexG3oX",
    "outputId": "7ae5c585-56b8-4244-d596-37ebd856b3c5"
   },
   "outputs": [
    {
     "name": "stdout",
     "output_type": "stream",
     "text": [
      "0.9135398097311264\n"
     ]
    }
   ],
   "source": [
    "cnt=0\n",
    "for i in data['cleaned_text']:\n",
    "    if(len(i.split()) <= 80):\n",
    "        cnt = cnt+1\n",
    "print(cnt / len(data['cleaned_text']))"
   ]
  },
  {
   "cell_type": "markdown",
   "metadata": {
    "id": "8JoIwVYA2Zhq"
   },
   "source": [
    "We observe that 98% of the summaries have length below 10 and 91% of the texts have length below 80."
   ]
  },
  {
   "cell_type": "code",
   "execution_count": 25,
   "metadata": {
    "id": "fiHVPSdAG6fw"
   },
   "outputs": [],
   "source": [
    "max_len_summary = 10\n",
    "max_len_text = 80"
   ]
  },
  {
   "cell_type": "code",
   "execution_count": 26,
   "metadata": {
    "id": "EPsGQezDG_yT"
   },
   "outputs": [],
   "source": [
    "cleaned_text = np.array(data['cleaned_text'])\n",
    "cleaned_summary = np.array(data['cleaned_summary'])\n",
    "\n",
    "short_text=[]\n",
    "short_summary=[]\n",
    "\n",
    "for i in range(len(cleaned_text)):\n",
    "    if(len(cleaned_summary[i].split()) <= max_len_summary and len(cleaned_text[i].split()) <= max_len_text):\n",
    "        short_text.append(cleaned_text[i])\n",
    "        short_summary.append(cleaned_summary[i])\n",
    "         \n",
    "df = pd.DataFrame({'text':short_text,'summary':short_summary})"
   ]
  },
  {
   "cell_type": "code",
   "execution_count": 27,
   "metadata": {
    "colab": {
     "base_uri": "https://localhost:8080/"
    },
    "id": "3lzq81-VHV3T",
    "outputId": "a04bbf5e-9984-443b-913c-85d4949b2333"
   },
   "outputs": [
    {
     "data": {
      "text/plain": [
       "(353585, 2)"
      ]
     },
     "execution_count": 27,
     "metadata": {
      "tags": []
     },
     "output_type": "execute_result"
    }
   ],
   "source": [
    "df.shape"
   ]
  },
  {
   "cell_type": "markdown",
   "metadata": {
    "id": "S857YWGM22S7"
   },
   "source": [
    "Add the start of sequence and end of sequence tokens at the beginning and end of the summary respectively.\n",
    "\n",
    "Here, \"sostok\" represents start of sequence token and \"eostok\" represents end of sequence tokens"
   ]
  },
  {
   "cell_type": "code",
   "execution_count": 28,
   "metadata": {
    "id": "VCTDpWgTHYFl"
   },
   "outputs": [],
   "source": [
    "df['summary'] = df['summary'].apply(lambda x : 'sostok ' + x + ' eostok')"
   ]
  },
  {
   "cell_type": "code",
   "execution_count": 29,
   "metadata": {
    "colab": {
     "base_uri": "https://localhost:8080/"
    },
    "id": "-n4q1bcPHnj3",
    "outputId": "b9879f56-9581-4f18-b462-f4c0791cc476"
   },
   "outputs": [
    {
     "name": "stdout",
     "output_type": "stream",
     "text": [
      "Review: bought several vitality canned dog food products found good quality product looks like stew processed meat smells better labrador finicky appreciates product better\n",
      "Summary: sostok good quality dog food eostok\n",
      "\n",
      "\n",
      "Review: product arrived labeled jumbo salted peanuts peanuts actually small sized unsalted sure error vendor intended represent product jumbo\n",
      "Summary: sostok not as advertised eostok\n",
      "\n",
      "\n"
     ]
    }
   ],
   "source": [
    "for i in range(2):\n",
    "  print(\"Review:\",df['text'][i])\n",
    "  print(\"Summary:\",df['summary'][i])\n",
    "  print(\"\\n\")"
   ]
  },
  {
   "cell_type": "markdown",
   "metadata": {
    "id": "E-bV6MHK5G3p"
   },
   "source": [
    "Split the dataset into train, validation and test set."
   ]
  },
  {
   "cell_type": "code",
   "execution_count": 30,
   "metadata": {
    "id": "QJpUAcrzHvea"
   },
   "outputs": [],
   "source": [
    "# validation set\n",
    "x_tr, x_val, y_tr, y_val = train_test_split(np.array(df['text']), np.array(df['summary']), test_size = 0.1, random_state = 0, shuffle = True)"
   ]
  },
  {
   "cell_type": "code",
   "execution_count": 31,
   "metadata": {
    "id": "LYaNZpOu4ERd"
   },
   "outputs": [],
   "source": [
    "# training and test set\n",
    "x_tr, x_test, y_tr, y_test = train_test_split(x_tr, y_tr, test_size = 0.1, random_state = 0, shuffle = True)"
   ]
  },
  {
   "cell_type": "code",
   "execution_count": 32,
   "metadata": {
    "colab": {
     "base_uri": "https://localhost:8080/"
    },
    "id": "HICuiEgw36tE",
    "outputId": "cf9136b1-bab5-4ae0-b24a-c8356eab0e8b"
   },
   "outputs": [
    {
     "name": "stdout",
     "output_type": "stream",
     "text": [
      "Training set size: 286403\n",
      "Validation set size: 35359\n",
      "Test set size: 31823\n"
     ]
    }
   ],
   "source": [
    "print(\"Training set size:\", x_tr.shape[0])\n",
    "print(\"Validation set size:\", x_val.shape[0])\n",
    "print(\"Test set size:\", x_test.shape[0])"
   ]
  },
  {
   "cell_type": "markdown",
   "metadata": {
    "id": "iTf2t8kp5aZt"
   },
   "source": [
    "## Tokenizer\n",
    "\n",
    "* Text Tokenizer\n",
    "\n",
    "It builds the vocabulary and converts a word sequence to an integer sequence."
   ]
  },
  {
   "cell_type": "code",
   "execution_count": 33,
   "metadata": {
    "id": "SBhYQvtyISdL"
   },
   "outputs": [],
   "source": [
    "x_tokenizer = Tokenizer()\n",
    "x_tokenizer.fit_on_texts(list(x_tr))"
   ]
  },
  {
   "cell_type": "markdown",
   "metadata": {
    "id": "Dg2N5RLd57Xj"
   },
   "source": [
    "Removing rare words:\n",
    "\n",
    "Here, if no. of occurrences of a word is less than 4, then it is considered as a rare word.\n",
    "\n",
    "total_count = size of the vocabulary\n",
    "\n",
    "count = no. of rare words\n"
   ]
  },
  {
   "cell_type": "code",
   "execution_count": 34,
   "metadata": {
    "colab": {
     "base_uri": "https://localhost:8080/"
    },
    "id": "yBMG_HUWIylO",
    "outputId": "86314c63-34f1-40b6-ed6b-b7431dcb59b8"
   },
   "outputs": [
    {
     "name": "stdout",
     "output_type": "stream",
     "text": [
      "Precentage of rare words in vocabulary: 64.7449858184765\n"
     ]
    }
   ],
   "source": [
    "count, total_count = 0, 0\n",
    "\n",
    "for key, value in x_tokenizer.word_counts.items():\n",
    "    total_count = total_count + 1\n",
    "    if(value < 4):\n",
    "        count = count + 1\n",
    "    \n",
    "print(\"Precentage of rare words in vocabulary:\",(count / total_count) * 100)"
   ]
  },
  {
   "cell_type": "code",
   "execution_count": 35,
   "metadata": {
    "colab": {
     "base_uri": "https://localhost:8080/"
    },
    "id": "-71LeGuOJRsb",
    "outputId": "e2dfe53a-e115-44b2-f651-70af1d4fcc54"
   },
   "outputs": [
    {
     "name": "stdout",
     "output_type": "stream",
     "text": [
      "size of vocabulary 78977\n"
     ]
    }
   ],
   "source": [
    "x_tokenizer = Tokenizer(num_words = total_count - count)\n",
    "x_tokenizer.fit_on_texts(list(x_tr))\n",
    "\n",
    "# convert text to integer seqeunces\n",
    "x_tr_seq = x_tokenizer.texts_to_sequences(x_tr)\n",
    "x_val_seq = x_tokenizer.texts_to_sequences(x_val)\n",
    "x_test_seq = x_tokenizer.texts_to_sequences(x_test)\n",
    "\n",
    "# pad sequences upto maximum length\n",
    "x_tr = pad_sequences(x_tr_seq, maxlen = max_len_text, padding = 'post')\n",
    "x_val = pad_sequences(x_val_seq, maxlen = max_len_text, padding = 'post')\n",
    "x_test = pad_sequences(x_test_seq, maxlen = max_len_text, padding = 'post')\n",
    "\n",
    "# +1 for the padding token\n",
    "x_voc_size = len(x_tokenizer.word_counts) + 1\n",
    "print('size of vocabulary', x_voc_size)"
   ]
  },
  {
   "cell_type": "markdown",
   "metadata": {
    "id": "hZ_jWQIT9hhF"
   },
   "source": [
    "* Summary Tokenizer"
   ]
  },
  {
   "cell_type": "code",
   "execution_count": 36,
   "metadata": {
    "id": "w4TgZ4AwJyyP"
   },
   "outputs": [],
   "source": [
    "y_tokenizer = Tokenizer()   \n",
    "y_tokenizer.fit_on_texts(list(y_tr))"
   ]
  },
  {
   "cell_type": "code",
   "execution_count": 37,
   "metadata": {
    "colab": {
     "base_uri": "https://localhost:8080/"
    },
    "id": "v3P1v_1PJ1Ia",
    "outputId": "933eb79b-408b-4c7e-81af-c8bde24fd81b"
   },
   "outputs": [
    {
     "name": "stdout",
     "output_type": "stream",
     "text": [
      "Precentage of rare words in vocabulary: 67.68920734437975\n"
     ]
    }
   ],
   "source": [
    "count, total_count = 0, 0\n",
    "\n",
    "for key, value in y_tokenizer.word_counts.items():\n",
    "    total_count = total_count + 1\n",
    "    if(value < 4):\n",
    "        count = count + 1\n",
    "    \n",
    "print(\"Precentage of rare words in vocabulary:\",(count / total_count) * 100)"
   ]
  },
  {
   "cell_type": "code",
   "execution_count": 38,
   "metadata": {
    "id": "ol2uU0UOJ8VG"
   },
   "outputs": [],
   "source": [
    "y_tokenizer = Tokenizer(num_words = total_count - count)\n",
    "y_tokenizer.fit_on_texts(list(y_tr))\n",
    "\n",
    "# convert text to integer seqeunces\n",
    "y_tr_seq = y_tokenizer.texts_to_sequences(y_tr) \n",
    "y_val_seq = y_tokenizer.texts_to_sequences(y_val) \n",
    "y_test_seq = y_tokenizer.texts_to_sequences(y_test) \n",
    "\n",
    "# pad sequences upto maximum length\n",
    "y_tr = pad_sequences(y_tr_seq, maxlen = max_len_summary, padding = 'post')\n",
    "y_val = pad_sequences(y_val_seq, maxlen = max_len_summary, padding = 'post')\n",
    "y_test = pad_sequences(y_test_seq, maxlen = max_len_summary, padding = 'post')\n",
    "\n",
    "# +1 for the padding token\n",
    "y_voc_size = len(y_tokenizer.word_counts) + 1"
   ]
  },
  {
   "cell_type": "markdown",
   "metadata": {
    "id": "gwxU3VE6-s__"
   },
   "source": [
    "Let us check whether the length of the training data equals the word count."
   ]
  },
  {
   "cell_type": "code",
   "execution_count": 39,
   "metadata": {
    "colab": {
     "base_uri": "https://localhost:8080/"
    },
    "id": "NAuowoByKRwK",
    "outputId": "a4b6d132-8ddb-4668-8a35-8ad663a7d346"
   },
   "outputs": [
    {
     "name": "stdout",
     "output_type": "stream",
     "text": [
      "286403 286403\n"
     ]
    }
   ],
   "source": [
    "print(len(y_tr), y_tokenizer.word_counts['sostok'])"
   ]
  },
  {
   "cell_type": "markdown",
   "metadata": {
    "id": "sugL16gXAB3t"
   },
   "source": [
    "Delete the sequences that contains only start and end tokens"
   ]
  },
  {
   "cell_type": "code",
   "execution_count": 40,
   "metadata": {
    "id": "fHD0LkHcKarK"
   },
   "outputs": [],
   "source": [
    "def delseq(y_sum):\n",
    "    index = []\n",
    "    for i in range(len(y_sum)):\n",
    "        cnt = 0\n",
    "        for j in y_sum[i]:\n",
    "            if j != 0:      # 0 if padding \n",
    "                cnt = cnt+1\n",
    "        if(cnt == 2):\n",
    "            index.append(i)\n",
    "    return index;"
   ]
  },
  {
   "cell_type": "code",
   "execution_count": 41,
   "metadata": {
    "id": "NGfmE14tB_tb"
   },
   "outputs": [],
   "source": [
    "ind = delseq(y_tr)\n",
    "y_tr = np.delete(y_tr, ind, axis=0)\n",
    "x_tr = np.delete(x_tr, ind, axis=0)"
   ]
  },
  {
   "cell_type": "code",
   "execution_count": 42,
   "metadata": {
    "id": "O7FSx7HEK5C8"
   },
   "outputs": [],
   "source": [
    "ind = delseq(y_val)\n",
    "y_val = np.delete(y_val,ind, axis=0)\n",
    "x_val = np.delete(x_val,ind, axis=0)"
   ]
  },
  {
   "cell_type": "code",
   "execution_count": 43,
   "metadata": {
    "id": "9L7dshRECls9"
   },
   "outputs": [],
   "source": [
    "ind = delseq(y_test)\n",
    "y_test = np.delete(y_test,ind, axis=0)\n",
    "x_test = np.delete(x_test,ind, axis=0)"
   ]
  },
  {
   "cell_type": "markdown",
   "metadata": {
    "id": "PviIC0e_CqAu"
   },
   "source": [
    "# MODEL"
   ]
  },
  {
   "cell_type": "code",
   "execution_count": 44,
   "metadata": {
    "id": "ztpqm6LlK68c"
   },
   "outputs": [],
   "source": [
    "K.clear_session() \n",
    "latent_dim = 500 \n",
    "embedding_dim = 300"
   ]
  },
  {
   "cell_type": "code",
   "execution_count": 45,
   "metadata": {
    "colab": {
     "base_uri": "https://localhost:8080/"
    },
    "id": "zGZNCEZ8K_RA",
    "outputId": "7448c07f-d25c-4d0b-922d-43a4285cf12c"
   },
   "outputs": [
    {
     "name": "stdout",
     "output_type": "stream",
     "text": [
      "WARNING:tensorflow:Layer lstm_3 will not use cuDNN kernel since it doesn't meet the cuDNN kernel criteria. It will use generic GPU kernel as fallback when running on GPU\n"
     ]
    }
   ],
   "source": [
    "# Encoder \n",
    "encoder_inputs = Input(shape=(max_len_text,)) \n",
    "\n",
    "# Embedding Layer\n",
    "# here, we are initializing our Embedding layer from scratch and learning its weights during training.\n",
    "enc_emb_layer = Embedding(x_voc_size, embedding_dim, trainable = True)\n",
    "enc_emb = enc_emb_layer(encoder_inputs) \n",
    "\n",
    "#encoder LSTM 1 \n",
    "encoder_lstm1 = LSTM(latent_dim, return_sequences = True, return_state = True) \n",
    "encoder_output1, state_h1, state_c1 = encoder_lstm1(enc_emb) \n",
    "\n",
    "#encoder LSTM 2 \n",
    "encoder_lstm2 = LSTM(latent_dim, return_sequences = True,return_state = True) \n",
    "encoder_output2, state_h2, state_c2 = encoder_lstm2(encoder_output1) \n",
    "\n",
    "#encoder LSTM 3 \n",
    "encoder_lstm3 = LSTM(latent_dim, return_sequences = True, return_state = True) \n",
    "encoder_outputs, state_h, state_c = encoder_lstm3(encoder_output2) \n",
    "\n",
    "# Decoder. \n",
    "decoder_inputs = Input(shape = (None,)) \n",
    "\n",
    "# Embedding Layer\n",
    "dec_emb_layer = Embedding(y_voc_size, embedding_dim, trainable = True) \n",
    "dec_emb = dec_emb_layer(decoder_inputs) \n",
    "\n",
    "#Decoder LSTM using encoder_states as initial state\n",
    "decoder_lstm = LSTM(latent_dim, return_sequences = True, return_state = True, dropout = 0.4, recurrent_dropout = 0.2) \n",
    "decoder_outputs, decoder_forwd_state, decoder_back_state = decoder_lstm(dec_emb, initial_state = [state_h, state_c]) \n",
    "\n",
    "#Attention Layer\n",
    "attn_layer = AttentionLayer(name = 'attention_layer')\n",
    "attn_out, attn_states = attn_layer([encoder_outputs, decoder_outputs])\n",
    "\n",
    "# Concatenate attention input and decoder LSTM output\n",
    "decoder_concat_input = Concatenate(axis = -1, name = 'concat_layer')([decoder_outputs, attn_out])\n",
    "\n",
    "#dense layer\n",
    "decoder_dense =  TimeDistributed(Dense(y_voc_size, activation = 'softmax'))\n",
    "decoder_outputs = decoder_dense(decoder_concat_input)"
   ]
  },
  {
   "cell_type": "code",
   "execution_count": 46,
   "metadata": {
    "colab": {
     "base_uri": "https://localhost:8080/"
    },
    "id": "oEUzvihILsLy",
    "outputId": "7dfe7cac-90c2-4f90-eba0-6b0c6e99a173"
   },
   "outputs": [
    {
     "name": "stdout",
     "output_type": "stream",
     "text": [
      "Model: \"functional_1\"\n",
      "__________________________________________________________________________________________________\n",
      "Layer (type)                    Output Shape         Param #     Connected to                     \n",
      "==================================================================================================\n",
      "input_1 (InputLayer)            [(None, 80)]         0                                            \n",
      "__________________________________________________________________________________________________\n",
      "embedding (Embedding)           (None, 80, 300)      23693100    input_1[0][0]                    \n",
      "__________________________________________________________________________________________________\n",
      "lstm (LSTM)                     [(None, 80, 500), (N 1602000     embedding[0][0]                  \n",
      "__________________________________________________________________________________________________\n",
      "input_2 (InputLayer)            [(None, None)]       0                                            \n",
      "__________________________________________________________________________________________________\n",
      "lstm_1 (LSTM)                   [(None, 80, 500), (N 2002000     lstm[0][0]                       \n",
      "__________________________________________________________________________________________________\n",
      "embedding_1 (Embedding)         (None, None, 300)    8039100     input_2[0][0]                    \n",
      "__________________________________________________________________________________________________\n",
      "lstm_2 (LSTM)                   [(None, 80, 500), (N 2002000     lstm_1[0][0]                     \n",
      "__________________________________________________________________________________________________\n",
      "lstm_3 (LSTM)                   [(None, None, 500),  1602000     embedding_1[0][0]                \n",
      "                                                                 lstm_2[0][1]                     \n",
      "                                                                 lstm_2[0][2]                     \n",
      "__________________________________________________________________________________________________\n",
      "attention_layer (AttentionLayer ((None, None, 500),  500500      lstm_2[0][0]                     \n",
      "                                                                 lstm_3[0][0]                     \n",
      "__________________________________________________________________________________________________\n",
      "concat_layer (Concatenate)      (None, None, 1000)   0           lstm_3[0][0]                     \n",
      "                                                                 attention_layer[0][0]            \n",
      "__________________________________________________________________________________________________\n",
      "time_distributed (TimeDistribut (None, None, 26797)  26823797    concat_layer[0][0]               \n",
      "==================================================================================================\n",
      "Total params: 66,264,497\n",
      "Trainable params: 66,264,497\n",
      "Non-trainable params: 0\n",
      "__________________________________________________________________________________________________\n"
     ]
    }
   ],
   "source": [
    "model = Model([encoder_inputs, decoder_inputs], decoder_outputs) \n",
    "model.summary()"
   ]
  },
  {
   "cell_type": "markdown",
   "metadata": {
    "id": "xepw9q3gI8Ix"
   },
   "source": [
    "Here, I am using \"sparse categorical cross-entropy\" as the loss function. Since, it converts the integer sequence to a one-hot vector on the fly. This overcomes any memory issues."
   ]
  },
  {
   "cell_type": "code",
   "execution_count": 48,
   "metadata": {
    "id": "DRjX_P5xLvVj"
   },
   "outputs": [],
   "source": [
    "model.compile(optimizer = 'adam', loss = 'sparse_categorical_crossentropy')"
   ]
  },
  {
   "cell_type": "code",
   "execution_count": 49,
   "metadata": {
    "id": "HkvfjadNNgJI"
   },
   "outputs": [],
   "source": [
    "from tensorflow.keras.callbacks import EarlyStopping\n",
    "estop = EarlyStopping(monitor = 'val_loss', mode = 'min', verbose = 1, patience = 2)"
   ]
  },
  {
   "cell_type": "markdown",
   "metadata": {
    "id": "a326JlkzKiDx"
   },
   "source": [
    "We’ll train the model on a batch size of 512 and validate it on the cross-validation set (which is 10% of our dataset)"
   ]
  },
  {
   "cell_type": "code",
   "execution_count": 50,
   "metadata": {
    "colab": {
     "base_uri": "https://localhost:8080/"
    },
    "id": "jc5RqiSJMVOj",
    "outputId": "43bb19b7-c6c8-4020-a62d-12d3e1eb8fb9"
   },
   "outputs": [
    {
     "name": "stdout",
     "output_type": "stream",
     "text": [
      "Epoch 1/50\n",
      "555/555 [==============================] - 788s 1s/step - loss: 2.7362 - val_loss: 2.3698\n",
      "Epoch 2/50\n",
      "555/555 [==============================] - 812s 1s/step - loss: 2.2508 - val_loss: 2.1381\n",
      "Epoch 3/50\n",
      "555/555 [==============================] - 817s 1s/step - loss: 2.0419 - val_loss: 1.9772\n",
      "Epoch 4/50\n",
      "555/555 [==============================] - 817s 1s/step - loss: 1.8840 - val_loss: 1.8870\n",
      "Epoch 5/50\n",
      "555/555 [==============================] - 817s 1s/step - loss: 1.7680 - val_loss: 1.8347\n",
      "Epoch 6/50\n",
      "555/555 [==============================] - 821s 1s/step - loss: 1.6724 - val_loss: 1.8060\n",
      "Epoch 7/50\n",
      "555/555 [==============================] - 818s 1s/step - loss: 1.5886 - val_loss: 1.7977\n",
      "Epoch 8/50\n",
      "555/555 [==============================] - 818s 1s/step - loss: 1.5105 - val_loss: 1.8011\n",
      "Epoch 9/50\n",
      "555/555 [==============================] - 817s 1s/step - loss: 1.4365 - val_loss: 1.8110\n",
      "Epoch 00009: early stopping\n"
     ]
    }
   ],
   "source": [
    "history = model.fit([x_tr, y_tr[:,:-1]], y_tr.reshape(y_tr.shape[0],y_tr.shape[1], 1)[:, 1:] ,epochs = 50,callbacks = [estop], batch_size = 512, validation_data = ([x_val,y_val[:,:-1]], y_val.reshape(y_val.shape[0],y_val.shape[1], 1)[:,1:]))"
   ]
  },
  {
   "cell_type": "markdown",
   "metadata": {
    "id": "9sBBAFIxLSiH"
   },
   "source": [
    "Here, we will plot a few diagnostic plots to understand the behavior of the model over time:"
   ]
  },
  {
   "cell_type": "code",
   "execution_count": 51,
   "metadata": {
    "colab": {
     "base_uri": "https://localhost:8080/",
     "height": 269
    },
    "id": "hahPbBSQM-xI",
    "outputId": "c5879231-0472-415e-cfed-626994edaec2"
   },
   "outputs": [
    {
     "data": {
      "image/png": "[encoded data removed]",
      "text/plain": [
       "<Figure size 432x288 with 1 Axes>"
      ]
     },
     "metadata": {
      "needs_background": "light",
      "tags": []
     },
     "output_type": "display_data"
    }
   ],
   "source": [
    "plt.plot(history.history['loss'], c = 'g', label='train_loss')\n",
    "plt.plot(history.history['val_loss'], c = 'r', label='val_loss')\n",
    "plt.legend()\n",
    "plt.show()"
   ]
  },
  {
   "cell_type": "markdown",
   "metadata": {
    "id": "rHZF-usfLzUV"
   },
   "source": [
    "Dictionary to convert the index to word for target and source vocabulary"
   ]
  },
  {
   "cell_type": "code",
   "execution_count": 52,
   "metadata": {
    "id": "TUVy8X7ENe7D"
   },
   "outputs": [],
   "source": [
    "reverse_target_word_index = y_tokenizer.index_word\n",
    "reverse_source_word_index = x_tokenizer.index_word\n",
    "target_word_index = y_tokenizer.word_index"
   ]
  },
  {
   "cell_type": "markdown",
   "metadata": {
    "id": "6VNOqsacNEfT"
   },
   "source": [
    "# Inference:"
   ]
  },
  {
   "cell_type": "code",
   "execution_count": 53,
   "metadata": {
    "id": "ikieODPzlRPW"
   },
   "outputs": [],
   "source": [
    "# Encode the input sequence to get the feature vector\n",
    "encoder_model = Model(inputs = encoder_inputs, outputs = [encoder_outputs, state_h, state_c])\n",
    "\n",
    "# Decoder setup\n",
    "# Below tensors will hold the states of the previous time step\n",
    "decoder_state_input_h = Input(shape = (latent_dim, ))\n",
    "decoder_state_input_c = Input(shape = (latent_dim, ))\n",
    "decoder_hidden_state_input = Input(shape = (max_len_text, latent_dim))\n",
    "\n",
    "# Get the embeddings of the decoder sequence\n",
    "dec_emb2 = dec_emb_layer(decoder_inputs) \n",
    "\n",
    "# To predict the next word in the sequence, set the initial states to the states from the previous time step\n",
    "decoder_outputs2, state_h2, state_c2 = decoder_lstm(dec_emb2, initial_state=[decoder_state_input_h, decoder_state_input_c])\n",
    "\n",
    "#attention inference\n",
    "attn_out_inf, attn_states_inf = attn_layer([decoder_hidden_state_input, decoder_outputs2])\n",
    "decoder_inf_concat = Concatenate(axis = -1, name = 'concat')([decoder_outputs2, attn_out_inf])\n",
    "\n",
    "# A dense softmax layer to generate prob dist. over the target vocabulary\n",
    "decoder_outputs2 = decoder_dense(decoder_inf_concat) \n",
    "\n",
    "# Final decoder model\n",
    "decoder_model = Model([decoder_inputs] + [decoder_hidden_state_input,decoder_state_input_h, decoder_state_input_c], [decoder_outputs2] + [state_h2, state_c2])"
   ]
  },
  {
   "cell_type": "code",
   "execution_count": 54,
   "metadata": {
    "id": "gOgi-B3dlYQz"
   },
   "outputs": [],
   "source": [
    "def decode_sequence(input_seq):\n",
    "    e_out, e_h, e_c = encoder_model.predict(input_seq)\n",
    "    # Generate empty target sequence of length 1.\n",
    "    target_seq = np.zeros((1,1))\n",
    "    # Populate the first word of target sequence with the start word.\n",
    "    target_seq[0, 0] = target_word_index['sostok']\n",
    "    stop_condition = False\n",
    "    decoded_sentence = ''\n",
    "    while(not stop_condition):\n",
    "        output_tokens, h, c = decoder_model.predict([target_seq] + [e_out, e_h, e_c])\n",
    "        sampled_token_index = np.argmax(output_tokens[0, -1, :])\n",
    "        sampled_token = reverse_target_word_index[sampled_token_index]\n",
    "        if(sampled_token != 'eostok'):\n",
    "            decoded_sentence += ' ' + sampled_token\n",
    "        if (sampled_token == 'eostok'  or len(decoded_sentence.split()) >= (max_len_summary-1)):\n",
    "            stop_condition = True\n",
    "        target_seq = np.zeros((1,1))\n",
    "        target_seq[0, 0] = sampled_token_index\n",
    "        e_h, e_c = h, c\n",
    "    return decoded_sentence"
   ]
  },
  {
   "cell_type": "code",
   "execution_count": 55,
   "metadata": {
    "id": "IFfQE6MAlaed"
   },
   "outputs": [],
   "source": [
    "def seq2summary(input_seq):\n",
    "    newString = ''\n",
    "    for i in input_seq:\n",
    "      if((i != 0 and i != target_word_index['sostok']) and i != target_word_index['eostok']):\n",
    "        newString = newString + reverse_target_word_index[i] + ' '\n",
    "    return newString"
   ]
  },
  {
   "cell_type": "code",
   "execution_count": 56,
   "metadata": {
    "id": "Ul1UOGRilcnh"
   },
   "outputs": [],
   "source": [
    "def seq2text(input_seq):\n",
    "    newString = ''\n",
    "    for i in input_seq:\n",
    "      if(i != 0):\n",
    "        newString = newString + reverse_source_word_index[i] + ' '\n",
    "    return newString"
   ]
  },
  {
   "cell_type": "markdown",
   "metadata": {},
   "source": [
    "Let us predict output for the test set:"
   ]
  },
  {
   "cell_type": "code",
   "execution_count": 57,
   "metadata": {
    "colab": {
     "base_uri": "https://localhost:8080/"
    },
    "id": "9CFk205ileeD",
    "outputId": "16683bdd-2e99-42e0-a218-c3f6a83c5885",
    "scrolled": true
   },
   "outputs": [
    {
     "name": "stdout",
     "output_type": "stream",
     "text": [
      "Review: amazing san marzano tomatoes unbeatable price try making homemade pizza wow good remember use salt pepper spices unadulterated unlike canned tomatoes \n",
      "Original summary: great tomatoes great price \n",
      "Predicted summary:  best tomato sauce\n",
      "\n",
      "\n",
      "Review: product really good raise blood sugar give star cereal good hand tried ordering save shipping company let charge shipping item ordered companies amazon split cost box together save shipping fees shipping cost cereal worth ordering get something similar close live cannot get anything like live sadly say shipping makes total price compared amount product get something probably order \n",
      "Original summary: great product not so great shipping price \n",
      "Predicted summary:  good cereal but\n",
      "\n",
      "\n",
      "Review: panda bars candy husband remembers loving childhood become favorite mine year old son also arrived quickly wish ordered boxes rate eating gone within week panda bar main ingredients wheat flour find high fructose corn syrup consider brands like twizzlers taste waxy hard whereas panda bars nice chewy texture love box around make sure diaper bag stocked ready eat snacks like year old son considers special treat guilt letting enjoy one sold locally cheaper order box amazon \n",
      "Original summary: delicious everything had hoped for \n",
      "Predicted summary:  delicious\n",
      "\n",
      "\n",
      "Review: husband favorite flavor crystal light carried stores area \n",
      "Original summary: crystal light ruby red grapefruit drink mix \n",
      "Predicted summary:  crystal light\n",
      "\n",
      "\n",
      "Review: two favorite flavors together chocolate smooth creamy center tart sweet combo problem cannot stop eating get bottom bag buy \n",
      "Original summary: decadent \n",
      "Predicted summary:  love it\n",
      "\n",
      "\n"
     ]
    }
   ],
   "source": [
    "for i in range(5):\n",
    "  print(\"Review:\", seq2text(x_test[i]))\n",
    "  print(\"Original summary:\", seq2summary(y_test[i]))\n",
    "  print(\"Predicted summary:\", decode_sequence(x_test[i].reshape(1, max_len_text)))\n",
    "  print(\"\\n\")"
   ]
  },
  {
   "cell_type": "code",
   "execution_count": null,
   "metadata": {
    "id": "hkBLsKJSlhLu"
   },
   "outputs": [],
   "source": []
  }
 ],
 "metadata": {
  "accelerator": "GPU",
  "colab": {
   "collapsed_sections": [],
   "name": "Text-Summarizer.ipynb",
   "provenance": []
  },
  "kernelspec": {
   "display_name": "Python 3",
   "language": "python",
   "name": "python3"
  },
  "language_info": {
   "codemirror_mode": {
    "name": "ipython",
    "version": 3
   },
   "file_extension": ".py",
   "mimetype": "text/x-python",
   "name": "python",
   "nbconvert_exporter": "python",
   "pygments_lexer": "ipython3",
   "version": "3.8.5"
  }
 },
 "nbformat": 4,
 "nbformat_minor": 1
}
